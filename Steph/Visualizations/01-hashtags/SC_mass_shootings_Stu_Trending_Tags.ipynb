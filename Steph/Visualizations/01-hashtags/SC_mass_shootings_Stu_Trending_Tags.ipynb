{
 "cells": [
  {
   "cell_type": "code",
   "execution_count": 1,
   "metadata": {
    "collapsed": true
   },
   "outputs": [],
   "source": [
    "# Dependencies\n",
    "import tweepy\n",
    "import json\n",
    "import numpy as np\n",
    "from datetime import datetime\n",
    "import matplotlib.pyplot as plt\n",
    "# from config import consumer_key, consumer_secret, access_token, access_token_secret"
   ]
  },
  {
   "cell_type": "code",
   "execution_count": 2,
   "metadata": {
    "collapsed": true
   },
   "outputs": [],
   "source": [
    "consumer_key = \"Mu92DNpvefQ4XfzeLnrwOPx99\"\n",
    "consumer_secret = \"DybUt9nAcMZYtKporN8qyPig9JizczY6h3YsTah9Iy6nYVE7Xo\"\n",
    "access_token = \"969394997077225473-uTQ6VIcY1zI5KjEzUl971BtKD5jPyac\"\n",
    "access_token_secret = \"zWr5POWyJgY1HLEXSM5VQL8dB0PcNsoMJM0Tm6o1T9ARX\""
   ]
  },
  {
   "cell_type": "code",
   "execution_count": 3,
   "metadata": {
    "collapsed": true
   },
   "outputs": [],
   "source": [
    "# Setup Tweepy API Authentication\n",
    "auth = tweepy.OAuthHandler(consumer_key, consumer_secret)\n",
    "auth.set_access_token(access_token, access_token_secret)\n",
    "api = tweepy.API(auth, parser=tweepy.parsers.JSONParser())"
   ]
  },
  {
   "cell_type": "code",
   "execution_count": 14,
   "metadata": {},
   "outputs": [
    {
     "name": "stdout",
     "output_type": "stream",
     "text": [
      "#massshooting\n",
      "Avg. Seconds Between Tweets: 2965.71428571\n",
      "\n",
      "#2a\n",
      "Avg. Seconds Between Tweets: 11.5714285714\n",
      "\n",
      "#weapons\n",
      "Avg. Seconds Between Tweets: 795.875\n",
      "\n",
      "#republican\n",
      "Avg. Seconds Between Tweets: 83.8571428571\n",
      "\n",
      "#democrat\n",
      "Avg. Seconds Between Tweets: 67.0\n",
      "\n",
      "#thoughtsandprayers\n",
      "Avg. Seconds Between Tweets: 504.857142857\n",
      "\n",
      "#LasVegas\n",
      "Avg. Seconds Between Tweets: 16.6428571429\n",
      "\n",
      "#shootings\n",
      "Avg. Seconds Between Tweets: 9865.57142857\n",
      "\n",
      "#guncontrol\n",
      "Avg. Seconds Between Tweets: 145.0\n",
      "\n",
      "#gunviolence\n",
      "Avg. Seconds Between Tweets: 643.714285714\n",
      "\n",
      "#NRA\n",
      "Avg. Seconds Between Tweets: 24.3846153846\n",
      "\n",
      "#gun\n",
      "Avg. Seconds Between Tweets: 381.5\n",
      "\n",
      "#guns\n",
      "Avg. Seconds Between Tweets: 167.583333333\n",
      "\n",
      "#firearms\n",
      "Avg. Seconds Between Tweets: 642.769230769\n",
      "\n",
      "#shotgun\n",
      "Avg. Seconds Between Tweets: 882.142857143\n",
      "\n",
      "#rifles\n",
      "Avg. Seconds Between Tweets: 4490.5\n",
      "\n",
      "#SandyHook\n",
      "Avg. Seconds Between Tweets: 1114.71428571\n",
      "\n",
      "#Parkland\n",
      "Avg. Seconds Between Tweets: 609.0\n",
      "\n",
      "#Orlando\n",
      "Avg. Seconds Between Tweets: 70.6428571429\n",
      "\n",
      "#PulseNightclub\n",
      "Avg. Seconds Between Tweets: 20079.5454545\n",
      "\n",
      "#VirginiaTech\n",
      "Avg. Seconds Between Tweets: 7808.71428571\n",
      "\n",
      "#TheGazette\n",
      "Avg. Seconds Between Tweets: 417.0\n",
      "\n",
      "#SantaFe\n",
      "Avg. Seconds Between Tweets: 252.916666667\n",
      "\n",
      "#SanBernardino\n",
      "Avg. Seconds Between Tweets: 618.0\n",
      "\n",
      "#UnitedStates\n",
      "Avg. Seconds Between Tweets: 107.25\n",
      "\n",
      "#IslaVista\n",
      "Avg. Seconds Between Tweets: 31932.2857143\n",
      "\n",
      "#SantaBarbara\n",
      "Avg. Seconds Between Tweets: 15.7857142857\n",
      "\n",
      "#Annapolis\n",
      "Avg. Seconds Between Tweets: 460.714285714\n",
      "\n",
      "#lasvegasmassshooting\n",
      "Avg. Seconds Between Tweets: nan\n",
      "\n"
     ]
    },
    {
     "name": "stderr",
     "output_type": "stream",
     "text": [
      "/anaconda3/envs/PythonData/lib/python3.6/site-packages/numpy/core/fromnumeric.py:2909: RuntimeWarning: Mean of empty slice.\n",
      "  out=out, **kwargs)\n",
      "/anaconda3/envs/PythonData/lib/python3.6/site-packages/numpy/core/_methods.py:80: RuntimeWarning: invalid value encountered in double_scalars\n",
      "  ret = ret.dtype.type(ret / rcount)\n"
     ]
    },
    {
     "name": "stdout",
     "output_type": "stream",
     "text": [
      "#shooter\n",
      "Avg. Seconds Between Tweets: 366.111111111\n",
      "\n",
      "#victims\n",
      "Avg. Seconds Between Tweets: 1420.69230769\n",
      "\n"
     ]
    }
   ],
   "source": [
    "# Target Hashtags\n",
    "# target_tags = [\"#dataviz\", \"#deeplearning\", \"#TadashiHamada\", \"#ChrisPine\"]\n",
    "target_tags = [\"#massshooting\", \"#2a\", \"#weapons\", \"#republican\", \"#democrat\", \"#thoughtsandprayers\", \"#LasVegas\", \"#shootings\", \"#guncontrol\", \"#gunviolence\", \"#NRA\", \"#gun\", \"#guns\", \"#firearms\", \"#shotgun\", \"#rifles\", \"#SandyHook\", \"#Parkland\", \"#Orlando\", \"#PulseNightclub\", \"#VirginiaTech\", \"#TheGazette\", \"#SantaFe\", \"#SanBernardino\", \"#UnitedStates\", \"#IslaVista\", \"#SantaBarbara\", \"#Annapolis\", \"#lasvegasmassshooting\", \"#shooter\", \"#victims\"]\n",
    "time_between_tweets = []\n",
    "\n",
    "# Loop through each hashtag\n",
    "for tag in target_tags:\n",
    "    \n",
    "    # Create array to record all date-times of tweets\n",
    "    tweet_times = []\n",
    "\n",
    "    # Get 100 tweets on targetted tag\n",
    "    public_tweets = api.search(tag, rpp=100)\n",
    "    print(tag)\n",
    "\n",
    "    # Loop through all tweets\n",
    "    for tweet in public_tweets[\"statuses\"]:\n",
    "\n",
    "        # Store all tweet times into the array\n",
    "        tweet_times.append(tweet[\"created_at\"])\n",
    "    \n",
    "    # Convert all tweet times into datetime objects\n",
    "    tweet_time_objects = []\n",
    "\n",
    "    # Add each datetime object into the array\n",
    "    for x in range(len(tweet_times)):\n",
    "        tweet_datetime = datetime.strptime(tweet_times[x], \"%a %b %d %H:%M:%S %z %Y\")\n",
    "        tweet_time_objects.append(tweet_datetime)\n",
    "\n",
    "    # Calculate the time between tweets\n",
    "    time_in_between = []\n",
    "\n",
    "    # Calculate the time in between each tweet\n",
    "    for x in range(len(tweet_time_objects)-1):\n",
    "        secs_apart = ((tweet_time_objects[x] - tweet_time_objects[x+1]).seconds) \n",
    "        time_in_between.append(secs_apart)\n",
    "\n",
    "    # Seconds Between Tweets\n",
    "    print(\"Avg. Seconds Between Tweets: %s\" % np.mean(time_in_between))\n",
    "    print()"
   ]
  },
  {
   "cell_type": "code",
   "execution_count": null,
   "metadata": {
    "collapsed": true
   },
   "outputs": [],
   "source": []
  }
 ],
 "metadata": {
  "anaconda-cloud": {},
  "kernelspec": {
   "display_name": "PythonData",
   "language": "python",
   "name": "pythondata"
  },
  "language_info": {
   "codemirror_mode": {
    "name": "ipython",
    "version": 3
   },
   "file_extension": ".py",
   "mimetype": "text/x-python",
   "name": "python",
   "nbconvert_exporter": "python",
   "pygments_lexer": "ipython3",
   "version": "3.6.3"
  },
  "varInspector": {
   "cols": {
    "lenName": 16,
    "lenType": 16,
    "lenVar": 40
   },
   "kernels_config": {
    "python": {
     "delete_cmd_postfix": "",
     "delete_cmd_prefix": "del ",
     "library": "var_list.py",
     "varRefreshCmd": "print(var_dic_list())"
    },
    "r": {
     "delete_cmd_postfix": ") ",
     "delete_cmd_prefix": "rm(",
     "library": "var_list.r",
     "varRefreshCmd": "cat(var_dic_list()) "
    }
   },
   "types_to_exclude": [
    "module",
    "function",
    "builtin_function_or_method",
    "instance",
    "_Feature"
   ],
   "window_display": false
  }
 },
 "nbformat": 4,
 "nbformat_minor": 1
}
