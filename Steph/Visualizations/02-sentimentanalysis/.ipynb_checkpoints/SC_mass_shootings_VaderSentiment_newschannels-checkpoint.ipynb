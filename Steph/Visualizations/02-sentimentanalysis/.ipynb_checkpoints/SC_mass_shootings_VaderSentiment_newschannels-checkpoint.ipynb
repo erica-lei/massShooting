{
 "cells": [
  {
   "cell_type": "code",
   "execution_count": 2,
   "metadata": {},
   "outputs": [],
   "source": [
    "# Dependencies\n",
    "import tweepy\n",
    "import numpy as np\n",
    "\n",
    "# Import and Initialize Sentiment Analyzer\n",
    "from vaderSentiment.vaderSentiment import SentimentIntensityAnalyzer\n",
    "analyzer = SentimentIntensityAnalyzer()\n",
    "\n",
    "# # Twitter API Keys\n",
    "# from config import (consumer_key, \n",
    "#                     consumer_secret, \n",
    "#                     access_token, \n",
    "#                     access_token_secret)\n",
    "\n",
    "# # Setup Tweepy API Authentication\n",
    "# auth = tweepy.OAuthHandler(consumer_key, consumer_secret)\n",
    "# auth.set_access_token(access_token, access_token_secret)\n",
    "# api = tweepy.API(auth, parser=tweepy.parsers.JSONParser())"
   ]
  },
  {
   "cell_type": "code",
   "execution_count": 3,
   "metadata": {
    "collapsed": true
   },
   "outputs": [],
   "source": [
    "consumer_key = \"Mu92DNpvefQ4XfzeLnrwOPx99\"\n",
    "consumer_secret = \"DybUt9nAcMZYtKporN8qyPig9JizczY6h3YsTah9Iy6nYVE7Xo\"\n",
    "access_token = \"969394997077225473-uTQ6VIcY1zI5KjEzUl971BtKD5jPyac\"\n",
    "access_token_secret = \"zWr5POWyJgY1HLEXSM5VQL8dB0PcNsoMJM0Tm6o1T9ARX\""
   ]
  },
  {
   "cell_type": "code",
   "execution_count": 4,
   "metadata": {
    "collapsed": true
   },
   "outputs": [],
   "source": [
    "# Setup Tweepy API Authentication\n",
    "auth = tweepy.OAuthHandler(consumer_key, consumer_secret)\n",
    "auth.set_access_token(access_token, access_token_secret)\n",
    "api = tweepy.API(auth, parser=tweepy.parsers.JSONParser())"
   ]
  },
  {
   "cell_type": "code",
   "execution_count": null,
   "metadata": {},
   "outputs": [
    {
     "name": "stdout",
     "output_type": "stream",
     "text": [
      "{'User': '@CNN', 'Compound': -0.0807076923076923, 'Positive': 0.079884615384615387, 'Neutral': 0.1131153846153846, 'Negative': 0.8069615384615384, 'Tweet Count': 26}\n",
      "\n",
      "{'User': '@CNNnewsroom', 'Compound': 0.14649090909090909, 'Positive': 0.10963636363636363, 'Neutral': 0.056772727272727266, 'Negative': 0.83359090909090916, 'Tweet Count': 22}\n",
      "\n",
      "{'User': '@CNNPolitics', 'Compound': 0.015099999999999994, 'Positive': 0.053952380952380953, 'Neutral': 0.059095238095238103, 'Negative': 0.88700000000000012, 'Tweet Count': 21}\n",
      "\n",
      "{'User': '@CNNbrk', 'Compound': -0.12014999999999998, 'Positive': 0.060363636363636355, 'Neutral': 0.080500000000000016, 'Negative': 0.85913636363636348, 'Tweet Count': 22}\n",
      "\n",
      "{'User': '@FoxNews', 'Compound': -0.09065454545454546, 'Positive': 0.051318181818181818, 'Neutral': 0.094909090909090915, 'Negative': 0.85372727272727278, 'Tweet Count': 22}\n",
      "\n",
      "{'User': '@foxheadlines', 'Compound': 0.1338, 'Positive': 0.11649999999999999, 'Neutral': 0.054208333333333338, 'Negative': 0.82933333333333348, 'Tweet Count': 24}\n",
      "\n",
      "{'User': '@foxnewspolitics', 'Compound': 0.082783333333333362, 'Positive': 0.094777777777777794, 'Neutral': 0.05344444444444444, 'Negative': 0.85177777777777774, 'Tweet Count': 18}\n",
      "\n"
     ]
    }
   ],
   "source": [
    "# Target Search Term\n",
    "target_terms = (\"@CNN\", \"@CNNnewsroom\", \"@CNNPolitics\",\n",
    "                \"@CNNbrk\", \"@FoxNews\", \"@foxheadlines\", \n",
    "                \"@foxnewspolitics\", \"@MSNBC\", \"@nytimes\",\n",
    "                \"@nytpolitics\", \"@washingtonpost\", \"@NPR\",\n",
    "                \"@nprpolitics\", \"@abcnews\", \"@abcpolitics\",\n",
    "                \"@CBSnews\", \"@nbcnews\", \"@latimes\", \n",
    "                \"@usatodaynews\", \"@WSJusnews\", \"@WSJbreakingnews\",\n",
    "                \"@TIME\", \"@guardian\", \"@theblaze\", \n",
    "                \"@OANN\", \"@NRO\", \"@NewsmaxNow\", \n",
    "                \"@dcexaminer\", \"@washexaminer\", \"@ACUconservative\",\n",
    "                \"@amconmag\", \"@insp_tv\")\n",
    "\n",
    "# \"Real Person\" Filters\n",
    "min_tweets = 5\n",
    "max_tweets = 10000\n",
    "max_followers = 2500\n",
    "max_following = 2500\n",
    "lang = \"en\"\n",
    "\n",
    "# Array to hold sentiment\n",
    "sentiment_array = []\n",
    "\n",
    "# Loop through all target users\n",
    "for target in target_terms:\n",
    "\n",
    "    # Variable for holding the oldest tweet\n",
    "    oldest_tweet = None\n",
    "\n",
    "    # Variables for holding sentiments\n",
    "    compound_list = []\n",
    "    positive_list = []\n",
    "    negative_list = []\n",
    "    neutral_list = []\n",
    "\n",
    "    # make multiple requests\n",
    "    for x in range(5):\n",
    "\n",
    "        # Run search around each tweet\n",
    "        public_tweets = api.search(\n",
    "            target, count=10, result_type=\"recent\", max_id=oldest_tweet)\n",
    "\n",
    "        # Loop through all tweets\n",
    "        for tweet in public_tweets[\"statuses\"]:\n",
    "\n",
    "            # Use filters to check if user meets conditions\n",
    "            if (tweet[\"user\"][\"followers_count\"] < max_followers\n",
    "                and tweet[\"user\"][\"statuses_count\"] > min_tweets\n",
    "                and tweet[\"user\"][\"statuses_count\"] < max_tweets\n",
    "                and tweet[\"user\"][\"friends_count\"] < max_following\n",
    "                and tweet[\"user\"][\"lang\"] == lang):\n",
    "\n",
    "                # Run Vader Analysis on each tweet\n",
    "                results = analyzer.polarity_scores(tweet[\"text\"])\n",
    "                compound = results[\"compound\"]\n",
    "                pos = results[\"pos\"]\n",
    "                neu = results[\"neu\"]\n",
    "                neg = results[\"neg\"]\n",
    "\n",
    "                # Add each value to the appropriate array\n",
    "                compound_list.append(compound)\n",
    "                positive_list.append(pos)\n",
    "                negative_list.append(neg)\n",
    "                neutral_list.append(neu)\n",
    "                \n",
    "        # Set the new oldest_tweet value\n",
    "        oldest_tweet = int(tweet[\"id_str\"]) - 1\n",
    "\n",
    "    # Store the Average Sentiments\n",
    "    sentiment = {\n",
    "        \"User\": target,\n",
    "        \"Compound\": np.mean(compound_list),\n",
    "        \"Positive\": np.mean(positive_list),\n",
    "        \"Neutral\": np.mean(negative_list),\n",
    "        \"Negative\": np.mean(neutral_list),\n",
    "        \"Tweet Count\": len(compound_list)\n",
    "    }\n",
    "\n",
    "    # Print the Sentiments\n",
    "    print(sentiment)\n",
    "    print()"
   ]
  },
  {
   "cell_type": "code",
   "execution_count": null,
   "metadata": {
    "collapsed": true
   },
   "outputs": [],
   "source": []
  }
 ],
 "metadata": {
  "kernelspec": {
   "display_name": "PythonData",
   "language": "python",
   "name": "pythondata"
  },
  "language_info": {
   "codemirror_mode": {
    "name": "ipython",
    "version": 3
   },
   "file_extension": ".py",
   "mimetype": "text/x-python",
   "name": "python",
   "nbconvert_exporter": "python",
   "pygments_lexer": "ipython3",
   "version": "3.6.3"
  },
  "varInspector": {
   "cols": {
    "lenName": 16,
    "lenType": 16,
    "lenVar": 40
   },
   "kernels_config": {
    "python": {
     "delete_cmd_postfix": "",
     "delete_cmd_prefix": "del ",
     "library": "var_list.py",
     "varRefreshCmd": "print(var_dic_list())"
    },
    "r": {
     "delete_cmd_postfix": ") ",
     "delete_cmd_prefix": "rm(",
     "library": "var_list.r",
     "varRefreshCmd": "cat(var_dic_list()) "
    }
   },
   "types_to_exclude": [
    "module",
    "function",
    "builtin_function_or_method",
    "instance",
    "_Feature"
   ],
   "window_display": false
  }
 },
 "nbformat": 4,
 "nbformat_minor": 2
}
