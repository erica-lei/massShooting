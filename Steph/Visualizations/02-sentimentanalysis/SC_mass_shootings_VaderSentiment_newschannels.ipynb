{
 "cells": [
  {
   "cell_type": "code",
   "execution_count": 2,
   "metadata": {},
   "outputs": [],
   "source": [
    "# Dependencies\n",
    "import tweepy\n",
    "import numpy as np\n",
    "\n",
    "# Import and Initialize Sentiment Analyzer\n",
    "from vaderSentiment.vaderSentiment import SentimentIntensityAnalyzer\n",
    "analyzer = SentimentIntensityAnalyzer()\n",
    "\n",
    "# # Twitter API Keys\n",
    "# from config import (consumer_key, \n",
    "#                     consumer_secret, \n",
    "#                     access_token, \n",
    "#                     access_token_secret)\n",
    "\n",
    "# # Setup Tweepy API Authentication\n",
    "# auth = tweepy.OAuthHandler(consumer_key, consumer_secret)\n",
    "# auth.set_access_token(access_token, access_token_secret)\n",
    "# api = tweepy.API(auth, parser=tweepy.parsers.JSONParser())"
   ]
  },
  {
   "cell_type": "code",
   "execution_count": 3,
   "metadata": {
    "collapsed": true
   },
   "outputs": [],
   "source": [
    "consumer_key = \"Mu92DNpvefQ4XfzeLnrwOPx99\"\n",
    "consumer_secret = \"DybUt9nAcMZYtKporN8qyPig9JizczY6h3YsTah9Iy6nYVE7Xo\"\n",
    "access_token = \"969394997077225473-uTQ6VIcY1zI5KjEzUl971BtKD5jPyac\"\n",
    "access_token_secret = \"zWr5POWyJgY1HLEXSM5VQL8dB0PcNsoMJM0Tm6o1T9ARX\""
   ]
  },
  {
   "cell_type": "code",
   "execution_count": 4,
   "metadata": {
    "collapsed": true
   },
   "outputs": [],
   "source": [
    "# Setup Tweepy API Authentication\n",
    "auth = tweepy.OAuthHandler(consumer_key, consumer_secret)\n",
    "auth.set_access_token(access_token, access_token_secret)\n",
    "api = tweepy.API(auth, parser=tweepy.parsers.JSONParser())"
   ]
  },
  {
   "cell_type": "code",
   "execution_count": 5,
   "metadata": {},
   "outputs": [
    {
     "name": "stdout",
     "output_type": "stream",
     "text": [
      "{'User': '@CNN', 'Compound': -0.0807076923076923, 'Positive': 0.079884615384615387, 'Neutral': 0.1131153846153846, 'Negative': 0.8069615384615384, 'Tweet Count': 26}\n",
      "\n",
      "{'User': '@CNNnewsroom', 'Compound': 0.14649090909090909, 'Positive': 0.10963636363636363, 'Neutral': 0.056772727272727266, 'Negative': 0.83359090909090916, 'Tweet Count': 22}\n",
      "\n",
      "{'User': '@CNNPolitics', 'Compound': 0.015099999999999994, 'Positive': 0.053952380952380953, 'Neutral': 0.059095238095238103, 'Negative': 0.88700000000000012, 'Tweet Count': 21}\n",
      "\n",
      "{'User': '@CNNbrk', 'Compound': -0.12014999999999998, 'Positive': 0.060363636363636355, 'Neutral': 0.080500000000000016, 'Negative': 0.85913636363636348, 'Tweet Count': 22}\n",
      "\n",
      "{'User': '@FoxNews', 'Compound': -0.09065454545454546, 'Positive': 0.051318181818181818, 'Neutral': 0.094909090909090915, 'Negative': 0.85372727272727278, 'Tweet Count': 22}\n",
      "\n",
      "{'User': '@foxheadlines', 'Compound': 0.1338, 'Positive': 0.11649999999999999, 'Neutral': 0.054208333333333338, 'Negative': 0.82933333333333348, 'Tweet Count': 24}\n",
      "\n",
      "{'User': '@foxnewspolitics', 'Compound': 0.082783333333333362, 'Positive': 0.094777777777777794, 'Neutral': 0.05344444444444444, 'Negative': 0.85177777777777774, 'Tweet Count': 18}\n",
      "\n",
      "{'User': '@MSNBC', 'Compound': 0.029742857142857133, 'Positive': 0.088904761904761917, 'Neutral': 0.080142857142857141, 'Negative': 0.83095238095238111, 'Tweet Count': 21}\n",
      "\n",
      "{'User': '@nytimes', 'Compound': 0.11563636363636362, 'Positive': 0.12795454545454546, 'Neutral': 0.05609090909090908, 'Negative': 0.81595454545454549, 'Tweet Count': 22}\n",
      "\n",
      "{'User': '@nytpolitics', 'Compound': -0.0043333333333333314, 'Positive': 0.047111111111111117, 'Neutral': 0.057555555555555554, 'Negative': 0.89533333333333331, 'Tweet Count': 18}\n",
      "\n",
      "{'User': '@washingtonpost', 'Compound': 0.044886666666666665, 'Positive': 0.083266666666666669, 'Neutral': 0.065133333333333335, 'Negative': 0.85159999999999991, 'Tweet Count': 15}\n",
      "\n",
      "{'User': '@NPR', 'Compound': -0.091900000000000009, 'Positive': 0.096700000000000008, 'Neutral': 0.11025, 'Negative': 0.79315000000000002, 'Tweet Count': 20}\n",
      "\n",
      "{'User': '@nprpolitics', 'Compound': 0.085485714285714276, 'Positive': 0.096190476190476187, 'Neutral': 0.066904761904761897, 'Negative': 0.83690476190476182, 'Tweet Count': 21}\n",
      "\n",
      "{'User': '@abcnews', 'Compound': 0.25464166666666671, 'Positive': 0.15833333333333333, 'Neutral': 0.041916666666666665, 'Negative': 0.79974999999999985, 'Tweet Count': 12}\n",
      "\n",
      "{'User': '@abcpolitics', 'Compound': 0.03848, 'Positive': 0.085266666666666657, 'Neutral': 0.092999999999999999, 'Negative': 0.82179999999999997, 'Tweet Count': 15}\n",
      "\n",
      "{'User': '@CBSnews', 'Compound': -0.0017800000000000094, 'Positive': 0.095899999999999999, 'Neutral': 0.1115, 'Negative': 0.79259999999999986, 'Tweet Count': 20}\n",
      "\n",
      "{'User': '@nbcnews', 'Compound': 0.028086363636363642, 'Positive': 0.050909090909090904, 'Neutral': 0.042045454545454546, 'Negative': 0.90709090909090906, 'Tweet Count': 22}\n",
      "\n",
      "{'User': '@latimes', 'Compound': 0.095573684210526325, 'Positive': 0.076263157894736838, 'Neutral': 0.030578947368421049, 'Negative': 0.89315789473684204, 'Tweet Count': 19}\n",
      "\n"
     ]
    },
    {
     "name": "stderr",
     "output_type": "stream",
     "text": [
      "/anaconda3/envs/PythonData/lib/python3.6/site-packages/numpy/core/fromnumeric.py:2909: RuntimeWarning: Mean of empty slice.\n",
      "  out=out, **kwargs)\n",
      "/anaconda3/envs/PythonData/lib/python3.6/site-packages/numpy/core/_methods.py:80: RuntimeWarning: invalid value encountered in double_scalars\n",
      "  ret = ret.dtype.type(ret / rcount)\n"
     ]
    },
    {
     "name": "stdout",
     "output_type": "stream",
     "text": [
      "{'User': '@usatodaynews', 'Compound': nan, 'Positive': nan, 'Neutral': nan, 'Negative': nan, 'Tweet Count': 0}\n",
      "\n",
      "{'User': '@WSJusnews', 'Compound': 0.63690000000000002, 'Positive': 0.16700000000000001, 'Neutral': 0.0, 'Negative': 0.83299999999999996, 'Tweet Count': 1}\n",
      "\n",
      "{'User': '@WSJbreakingnews', 'Compound': 0.17556666666666665, 'Positive': 0.058333333333333327, 'Neutral': 0.0, 'Negative': 0.94166666666666676, 'Tweet Count': 3}\n",
      "\n",
      "{'User': '@TIME', 'Compound': 0.042932000000000005, 'Positive': 0.047959999999999996, 'Neutral': 0.043680000000000004, 'Negative': 0.90835999999999995, 'Tweet Count': 25}\n",
      "\n",
      "{'User': '@guardian', 'Compound': 0.11777272727272724, 'Positive': 0.10127272727272728, 'Neutral': 0.049636363636363631, 'Negative': 0.84909090909090912, 'Tweet Count': 11}\n",
      "\n",
      "{'User': '@theblaze', 'Compound': -0.20735555555555557, 'Positive': 0.033944444444444444, 'Neutral': 0.13327777777777777, 'Negative': 0.83277777777777784, 'Tweet Count': 18}\n",
      "\n",
      "{'User': '@OANN', 'Compound': 0.30098260869565219, 'Positive': 0.19086956521739132, 'Neutral': 0.062, 'Negative': 0.74717391304347824, 'Tweet Count': 23}\n",
      "\n",
      "{'User': '@NRO', 'Compound': 0.011010526315789471, 'Positive': 0.083368421052631578, 'Neutral': 0.12694736842105261, 'Negative': 0.78957894736842116, 'Tweet Count': 19}\n",
      "\n",
      "{'User': '@NewsmaxNow', 'Compound': nan, 'Positive': nan, 'Neutral': nan, 'Negative': nan, 'Tweet Count': 0}\n",
      "\n",
      "{'User': '@dcexaminer', 'Compound': -0.053892307692307698, 'Positive': 0.047461538461538458, 'Neutral': 0.05899999999999999, 'Negative': 0.89353846153846161, 'Tweet Count': 13}\n",
      "\n",
      "{'User': '@washexaminer', 'Compound': 0.20402727272727275, 'Positive': 0.090909090909090912, 'Neutral': 0.01890909090909091, 'Negative': 0.89027272727272722, 'Tweet Count': 11}\n",
      "\n",
      "{'User': '@ACUconservative', 'Compound': 0.34965384615384615, 'Positive': 0.16330769230769232, 'Neutral': 0.014538461538461538, 'Negative': 0.82215384615384624, 'Tweet Count': 13}\n",
      "\n",
      "{'User': '@amconmag', 'Compound': -0.10852727272727272, 'Positive': 0.034363636363636367, 'Neutral': 0.066818181818181818, 'Negative': 0.89881818181818185, 'Tweet Count': 11}\n",
      "\n",
      "{'User': '@insp_tv', 'Compound': 0.22439047619047625, 'Positive': 0.095238095238095233, 'Neutral': 0.012952380952380953, 'Negative': 0.89180952380952372, 'Tweet Count': 21}\n",
      "\n"
     ]
    }
   ],
   "source": [
    "# Target Search Term\n",
    "target_terms = (\"@CNN\", \"@CNNnewsroom\", \"@CNNPolitics\",\n",
    "                \"@CNNbrk\", \"@FoxNews\", \"@foxheadlines\", \n",
    "                \"@foxnewspolitics\", \"@MSNBC\", \"@nytimes\",\n",
    "                \"@nytpolitics\", \"@washingtonpost\", \"@NPR\",\n",
    "                \"@nprpolitics\", \"@abcnews\", \"@abcpolitics\",\n",
    "                \"@CBSnews\", \"@nbcnews\", \"@latimes\", \n",
    "                \"@usatodaynews\", \"@WSJusnews\", \"@WSJbreakingnews\",\n",
    "                \"@TIME\", \"@guardian\", \"@theblaze\", \n",
    "                \"@OANN\", \"@NRO\", \"@NewsmaxNow\", \n",
    "                \"@dcexaminer\", \"@washexaminer\", \"@ACUconservative\",\n",
    "                \"@amconmag\", \"@insp_tv\")\n",
    "\n",
    "# \"Real Person\" Filters\n",
    "min_tweets = 5\n",
    "max_tweets = 10000\n",
    "max_followers = 2500\n",
    "max_following = 2500\n",
    "lang = \"en\"\n",
    "\n",
    "# Array to hold sentiment\n",
    "sentiment_array = []\n",
    "\n",
    "# Loop through all target users\n",
    "for target in target_terms:\n",
    "\n",
    "    # Variable for holding the oldest tweet\n",
    "    oldest_tweet = None\n",
    "\n",
    "    # Variables for holding sentiments\n",
    "    compound_list = []\n",
    "    positive_list = []\n",
    "    negative_list = []\n",
    "    neutral_list = []\n",
    "\n",
    "    # make multiple requests\n",
    "    for x in range(5):\n",
    "\n",
    "        # Run search around each tweet\n",
    "        public_tweets = api.search(\n",
    "            target, count=10, result_type=\"recent\", max_id=oldest_tweet)\n",
    "\n",
    "        # Loop through all tweets\n",
    "        for tweet in public_tweets[\"statuses\"]:\n",
    "\n",
    "            # Use filters to check if user meets conditions\n",
    "            if (tweet[\"user\"][\"followers_count\"] < max_followers\n",
    "                and tweet[\"user\"][\"statuses_count\"] > min_tweets\n",
    "                and tweet[\"user\"][\"statuses_count\"] < max_tweets\n",
    "                and tweet[\"user\"][\"friends_count\"] < max_following\n",
    "                and tweet[\"user\"][\"lang\"] == lang):\n",
    "\n",
    "                # Run Vader Analysis on each tweet\n",
    "                results = analyzer.polarity_scores(tweet[\"text\"])\n",
    "                compound = results[\"compound\"]\n",
    "                pos = results[\"pos\"]\n",
    "                neu = results[\"neu\"]\n",
    "                neg = results[\"neg\"]\n",
    "\n",
    "                # Add each value to the appropriate array\n",
    "                compound_list.append(compound)\n",
    "                positive_list.append(pos)\n",
    "                negative_list.append(neg)\n",
    "                neutral_list.append(neu)\n",
    "                \n",
    "        # Set the new oldest_tweet value\n",
    "        oldest_tweet = int(tweet[\"id_str\"]) - 1\n",
    "\n",
    "    # Store the Average Sentiments\n",
    "    sentiment = {\n",
    "        \"User\": target,\n",
    "        \"Compound\": np.mean(compound_list),\n",
    "        \"Positive\": np.mean(positive_list),\n",
    "        \"Neutral\": np.mean(negative_list),\n",
    "        \"Negative\": np.mean(neutral_list),\n",
    "        \"Tweet Count\": len(compound_list)\n",
    "    }\n",
    "\n",
    "    # Print the Sentiments\n",
    "    print(sentiment)\n",
    "    print()"
   ]
  },
  {
   "cell_type": "code",
   "execution_count": null,
   "metadata": {
    "collapsed": true
   },
   "outputs": [],
   "source": []
  }
 ],
 "metadata": {
  "kernelspec": {
   "display_name": "PythonData",
   "language": "python",
   "name": "pythondata"
  },
  "language_info": {
   "codemirror_mode": {
    "name": "ipython",
    "version": 3
   },
   "file_extension": ".py",
   "mimetype": "text/x-python",
   "name": "python",
   "nbconvert_exporter": "python",
   "pygments_lexer": "ipython3",
   "version": "3.6.3"
  },
  "varInspector": {
   "cols": {
    "lenName": 16,
    "lenType": 16,
    "lenVar": 40
   },
   "kernels_config": {
    "python": {
     "delete_cmd_postfix": "",
     "delete_cmd_prefix": "del ",
     "library": "var_list.py",
     "varRefreshCmd": "print(var_dic_list())"
    },
    "r": {
     "delete_cmd_postfix": ") ",
     "delete_cmd_prefix": "rm(",
     "library": "var_list.r",
     "varRefreshCmd": "cat(var_dic_list()) "
    }
   },
   "types_to_exclude": [
    "module",
    "function",
    "builtin_function_or_method",
    "instance",
    "_Feature"
   ],
   "window_display": false
  }
 },
 "nbformat": 4,
 "nbformat_minor": 2
}
